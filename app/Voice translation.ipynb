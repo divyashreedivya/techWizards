{
 "cells": [
  {
   "cell_type": "code",
   "execution_count": 1,
   "source": [
    "import geocoder\n",
    "from csv import reader\n",
    "from IPython.display import Audio\n",
    "from translate import Translator\n",
    "from langdetect import detect\n",
    "from gtts import gTTS\n",
    "import folium\n",
    "import speech_recognition as sr\n",
    "import pyttsx3 \n",
    "from playsound import playsound\n",
    "import os\n",
    "import urllib.request\n",
    "from flask import Flask, request, redirect, url_for, render_template, send_from_directory,Response,session\n",
    "# from werkzeug.utils import secure_filename\n",
    "# from flask_cors import cross_origin"
   ],
   "outputs": [
    {
     "output_type": "stream",
     "name": "stderr",
     "text": [
      "playsound is relying on another python subprocess. Please use `pip install pygobject` if you want playsound to run more efficiently.\n"
     ]
    }
   ],
   "metadata": {}
  },
  {
   "cell_type": "code",
   "execution_count": 2,
   "source": [
    "location=''\n",
    "language=''\n",
    "text=''\n",
    "xext=''"
   ],
   "outputs": [],
   "metadata": {}
  },
  {
   "cell_type": "code",
   "execution_count": 3,
   "source": [
    "def translate(language,text):\n",
    "    ip = geocoder.ip(\"me\")\n",
    "    location = ip.latlng\n",
    "    map = folium.Map(location=location, zoom_start=10)\n",
    "    folium.CircleMarker(location=location, radius=50, color=\"red\").add_to(map)\n",
    "    folium.Marker(location).add_to(map)\n",
    "    map.save(\"map.html\")\n",
    "    with open('data.csv', 'r') as read_obj:\n",
    "        csv_reader = reader(read_obj)\n",
    "        for row in csv_reader:\n",
    "            if row[0]==ip.city:\n",
    "                language=row[1]\n",
    "    r = sr.Recognizer() \n",
    "    i=0\n",
    "    while text!='bye':\n",
    "        try:\n",
    "            with sr.Microphone() as source2:\n",
    "                r.adjust_for_ambient_noise(source2, duration=0.2)\n",
    "                audio2 = r.listen(source2)\n",
    "                MyText = r.recognize_google(audio2)\n",
    "                text = MyText.lower()\n",
    "                print(text)\n",
    "                translator= Translator(from_lang=detect(text),to_lang=language)\n",
    "                translation = translator.translate(text)\n",
    "                print(translation)\n",
    "                tts = gTTS(translation)\n",
    "                tts.save(\"hi{0}.mp3\".format(i))\n",
    "                playsound(\"hi{0}.mp3\".format(i))\n",
    "                i=i+1\n",
    "            with sr.Microphone() as source2:\n",
    "                r.adjust_for_ambient_noise(source2, duration=0.2)\n",
    "                audio2 = r.listen(source2)\n",
    "                MyText = r.recognize_google(audio2)\n",
    "                xext = MyText.lower()\n",
    "                print(xext)\n",
    "                translator= Translator(from_lang=language,to_lang=detect(text))\n",
    "                translation = translator.translate(xext)\n",
    "                print(translation)\n",
    "                tts = gTTS(translation)\n",
    "                tts.save(\"hi{0}.mp3\".format(i))\n",
    "                playsound(\"hi{0}.mp3\".format(i))\n",
    "                i=i+1\n",
    "              \n",
    "        except sr.RequestError as e:\n",
    "            print(\"Could not request results; {0}\".format(e))\n",
    "          \n",
    "        except sr.UnknownValueError:\n",
    "            print(\"Nothing heard\")\n",
    "        \n",
    "        except StopIteration:\n",
    "            return"
   ],
   "outputs": [],
   "metadata": {}
  },
  {
   "cell_type": "code",
   "execution_count": 4,
   "source": [
    "app = Flask(__name__, static_url_path=\"/static\")\n",
    "\n",
    "# app.config['SECRET_KEY']='addgdhsbshdj'\n",
    "\n",
    "@app.route('/',methods=['GET', 'POST'])\n",
    "def index():\n",
    "    # translate(language,text)\n",
    "    return render_template('index.html')\n",
    "\n",
    "@app.route('/voice')\n",
    "def voice():\n",
    "    # session['stop']=False\n",
    "    translate(language,text)\n",
    "    return render_template('index1.html')"
   ],
   "outputs": [],
   "metadata": {}
  },
  {
   "cell_type": "code",
   "execution_count": 5,
   "source": [
    "# if __name__ == '__main__':\n",
    "#     app.run()"
   ],
   "outputs": [],
   "metadata": {}
  },
  {
   "cell_type": "code",
   "execution_count": 6,
   "source": [
    "translate(language,text)\n"
   ],
   "outputs": [
    {
     "output_type": "stream",
     "name": "stderr",
     "text": [
      "ALSA lib pcm_dsnoop.c:641:(snd_pcm_dsnoop_open) unable to open slave\n",
      "ALSA lib pcm_dmix.c:1089:(snd_pcm_dmix_open) unable to open slave\n",
      "ALSA lib pcm.c:2642:(snd_pcm_open_noupdate) Unknown PCM cards.pcm.rear\n",
      "ALSA lib pcm.c:2642:(snd_pcm_open_noupdate) Unknown PCM cards.pcm.center_lfe\n",
      "ALSA lib pcm.c:2642:(snd_pcm_open_noupdate) Unknown PCM cards.pcm.side\n",
      "ALSA lib pcm_oss.c:377:(_snd_pcm_oss_open) Unknown field port\n",
      "ALSA lib pcm_oss.c:377:(_snd_pcm_oss_open) Unknown field port\n",
      "ALSA lib pcm_usb_stream.c:486:(_snd_pcm_usb_stream_open) Invalid type for card\n",
      "ALSA lib pcm_usb_stream.c:486:(_snd_pcm_usb_stream_open) Invalid type for card\n",
      "ALSA lib pcm_dmix.c:1089:(snd_pcm_dmix_open) unable to open slave\n"
     ]
    }
   ],
   "metadata": {}
  }
 ],
 "metadata": {
  "kernelspec": {
   "name": "python3",
   "display_name": "Python 3.8.10 64-bit ('env': venv)"
  },
  "language_info": {
   "codemirror_mode": {
    "name": "ipython",
    "version": 3
   },
   "file_extension": ".py",
   "mimetype": "text/x-python",
   "name": "python",
   "nbconvert_exporter": "python",
   "pygments_lexer": "ipython3",
   "version": "3.8.10"
  },
  "interpreter": {
   "hash": "fc9e4dee656ecf096de96486a7f70dfce1d8c274f58cd161ab48df5ec7e8c8ce"
  }
 },
 "nbformat": 4,
 "nbformat_minor": 4
}