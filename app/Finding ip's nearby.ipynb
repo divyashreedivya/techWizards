{
 "cells": [
  {
   "cell_type": "code",
   "execution_count": 1,
   "metadata": {},
   "outputs": [],
   "source": [
    "import geocoder\n",
    "import folium\n",
    "import math\n",
    "from flask import Flask, request, redirect, url_for, render_template, send_from_directory,Response"
   ]
  },
  {
   "cell_type": "code",
   "execution_count": 2,
   "metadata": {},
   "outputs": [],
   "source": [
    "def haversine(lat1, lon1, lat2, lon2):\n",
    "    # distance between latitudes\n",
    "    # and longitudes\n",
    "    dLat = (lat2 - lat1) * math.pi / 180.0\n",
    "    dLon = (lon2 - lon1) * math.pi / 180.0\n",
    " \n",
    "    # convert to radians\n",
    "    lat1 = (lat1) * math.pi / 180.0\n",
    "    lat2 = (lat2) * math.pi / 180.0\n",
    " \n",
    "    # apply formulae\n",
    "    a = (pow(math.sin(dLat / 2), 2) + pow(math.sin(dLon / 2), 2) * math.cos(lat1) * math.cos(lat2));\n",
    "    rad = 6371\n",
    "    c = 2 * math.asin(math.sqrt(a))\n",
    "    return rad * c"
   ]
  },
  {
   "cell_type": "code",
   "execution_count": 3,
   "metadata": {},
   "outputs": [],
   "source": [
    "ips=[\"192.1.3.8\",\"172.168.1.1\",\"49.15.255.255\",\"49.47.255.255\",\"49.47.25.255\"]"
   ]
  },
  {
   "cell_type": "code",
   "execution_count": 4,
   "metadata": {},
   "outputs": [],
   "source": [
    "ip=geocoder.ip(\"me\")\n",
    "loc=ip.latlng\n",
    "map = folium.Map(location=loc, zoom_start=10)\n",
    "folium.CircleMarker(location=loc, radius=50, color=\"blue\").add_to(map)\n",
    "folium.Marker(loc).add_to(map)\n",
    "map.save(\"community.html\")#The one in blue is you"
   ]
  },
  {
   "cell_type": "code",
   "execution_count": 5,
   "metadata": {},
   "outputs": [],
   "source": [
    "def find_ips_closeby():\n",
    "    for i in ips:\n",
    "        ip1=geocoder.ip(i)\n",
    "        loc1=ip1.latlng\n",
    "        dist=haversine(loc[0],loc[1],loc1[0],loc1[1])\n",
    "        if dist<5000:\n",
    "            folium.CircleMarker(location=loc1,popup = 'Location', radius=50, color=\"red\").add_to(map)\n",
    "            folium.Marker(loc1).add_to(map)\n",
    "            map.save(\"community.html\")"
   ]
  },
  {
   "cell_type": "code",
   "execution_count": 6,
   "metadata": {},
   "outputs": [],
   "source": [
    "find_ips_closeby()"
   ]
  }
 ],
 "metadata": {
  "kernelspec": {
   "display_name": "Python 3",
   "language": "python",
   "name": "python3"
  },
  "language_info": {
   "codemirror_mode": {
    "name": "ipython",
    "version": 3
   },
   "file_extension": ".py",
   "mimetype": "text/x-python",
   "name": "python",
   "nbconvert_exporter": "python",
   "pygments_lexer": "ipython3",
   "version": "3.8.3"
  }
 },
 "nbformat": 4,
 "nbformat_minor": 4
}
