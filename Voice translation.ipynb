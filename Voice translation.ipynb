{
 "cells": [
  {
   "cell_type": "code",
   "execution_count": 1,
   "metadata": {},
   "outputs": [],
   "source": [
    "import geocoder\n",
    "from csv import reader\n",
    "from IPython.display import Audio\n",
    "from translate import Translator\n",
    "from langdetect import detect\n",
    "from gtts import gTTS\n",
    "import folium\n",
    "import speech_recognition as sr\n",
    "import pyttsx3 \n",
    "from playsound import playsound\n",
    "import os\n",
    "import urllib.request\n",
    "from flask import Flask, request, redirect, url_for, render_template, send_from_directory,Response"
   ]
  },
  {
   "cell_type": "code",
   "execution_count": 2,
   "metadata": {},
   "outputs": [],
   "source": [
    "location=''\n",
    "language=''\n",
    "text=''\n",
    "xext=''"
   ]
  },
  {
   "cell_type": "code",
   "execution_count": 3,
   "metadata": {},
   "outputs": [],
   "source": [
    "def translate(language,text):\n",
    "    ip = geocoder.ip(\"me\")\n",
    "    location = ip.latlng\n",
    "    map = folium.Map(location=location, zoom_start=10)\n",
    "    folium.CircleMarker(location=location, radius=50, color=\"red\").add_to(map)\n",
    "    folium.Marker(location).add_to(map)\n",
    "    map.save(\"map.html\")\n",
    "    with open('data.csv', 'r') as read_obj:\n",
    "        csv_reader = reader(read_obj)\n",
    "        for row in csv_reader:\n",
    "            if row[0]==ip.city:\n",
    "                language=row[1]\n",
    "    r = sr.Recognizer() \n",
    "    i=0\n",
    "    while text!='bye':\n",
    "        try:\n",
    "            with sr.Microphone() as source2:\n",
    "                r.adjust_for_ambient_noise(source2, duration=0.2)\n",
    "                audio2 = r.listen(source2)\n",
    "                MyText = r.recognize_google(audio2)\n",
    "                text = MyText.lower()\n",
    "                print(text)\n",
    "                translator= Translator(from_lang=detect(text),to_lang=language)\n",
    "                translation = translator.translate(text)\n",
    "                print(translation)\n",
    "                tts = gTTS(translation)\n",
    "                tts.save(\"hi{0}.mp3\".format(i))\n",
    "                playsound(\"hi{0}.mp3\".format(i))\n",
    "                i=i+1\n",
    "            with sr.Microphone() as source2:\n",
    "                r.adjust_for_ambient_noise(source2, duration=0.2)\n",
    "                audio2 = r.listen(source2)\n",
    "                MyText = r.recognize_google(audio2)\n",
    "                xext = MyText.lower()\n",
    "                print(xext)\n",
    "                translator= Translator(from_lang=language,to_lang=detect(text))\n",
    "                translation = translator.translate(xext)\n",
    "                print(translation)\n",
    "                tts = gTTS(translation)\n",
    "                tts.save(\"hi{0}.mp3\".format(i))\n",
    "                playsound(\"hi{0}.mp3\".format(i))\n",
    "                i=i+1\n",
    "              \n",
    "        except sr.RequestError as e:\n",
    "            print(\"Could not request results; {0}\".format(e))\n",
    "          \n",
    "        except sr.UnknownValueError:\n",
    "            print(\"Nothing heard\")\n",
    "        \n",
    "        except StopIteration:\n",
    "            return"
   ]
  },
  {
   "cell_type": "code",
   "execution_count": 4,
   "metadata": {},
   "outputs": [],
   "source": [
    "app = Flask(__name__, static_url_path=\"/static\")\n",
    "@app.route('/',methods=['GET', 'POST'])\n",
    "def index_home():\n",
    "    translate(language,text)\n",
    "    return render_template('map.html')"
   ]
  },
  {
   "cell_type": "code",
   "execution_count": null,
   "metadata": {},
   "outputs": [
    {
     "name": "stdout",
     "output_type": "stream",
     "text": [
      " * Serving Flask app \"__main__\" (lazy loading)\n",
      " * Environment: production\n",
      "   WARNING: This is a development server. Do not use it in a production deployment.\n",
      "   Use a production WSGI server instead.\n",
      " * Debug mode: off\n"
     ]
    },
    {
     "name": "stderr",
     "output_type": "stream",
     "text": [
      " * Running on http://127.0.0.1:5000/ (Press CTRL+C to quit)\n"
     ]
    },
    {
     "name": "stdout",
     "output_type": "stream",
     "text": [
      "hello\n",
      "MYMEMORY WARNING: YOU USED ALL AVAILABLE FREE TRANSLATIONS FOR TODAY. NEXT AVAILABLE IN  12 HOURS 48 MINUTES 39 SECONDSVISIT HTTPS://MYMEMORY.TRANSLATED.NET/DOC/USAGELIMITS.PHP TO TRANSLATE MORE\n",
      "Nothing heard\n",
      "Nothing heard\n",
      "Nothing heard\n",
      "Nothing heard\n",
      "Nothing heard\n",
      "Nothing heard\n"
     ]
    }
   ],
   "source": [
    "if __name__ == '__main__':\n",
    "    app.run()"
   ]
  },
  {
   "cell_type": "code",
   "execution_count": null,
   "metadata": {},
   "outputs": [],
   "source": []
  }
 ],
 "metadata": {
  "kernelspec": {
   "display_name": "Python 3",
   "language": "python",
   "name": "python3"
  },
  "language_info": {
   "codemirror_mode": {
    "name": "ipython",
    "version": 3
   },
   "file_extension": ".py",
   "mimetype": "text/x-python",
   "name": "python",
   "nbconvert_exporter": "python",
   "pygments_lexer": "ipython3",
   "version": "3.8.3"
  }
 },
 "nbformat": 4,
 "nbformat_minor": 4
}
